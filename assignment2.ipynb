{
 "cells": [
  {
   "cell_type": "code",
   "execution_count": 30,
   "metadata": {},
   "outputs": [
    {
     "ename": "SyntaxError",
     "evalue": "invalid syntax (<ipython-input-30-f1675b314c68>, line 9)",
     "output_type": "error",
     "traceback": [
      "\u001b[1;36m  File \u001b[1;32m\"<ipython-input-30-f1675b314c68>\"\u001b[1;36m, line \u001b[1;32m9\u001b[0m\n\u001b[1;33m    print is_vowel(1)\u001b[0m\n\u001b[1;37m                 ^\u001b[0m\n\u001b[1;31mSyntaxError\u001b[0m\u001b[1;31m:\u001b[0m invalid syntax\n"
     ]
    }
   ],
   "source": [
    "def is_vowel(char):\n",
    "    vowels = ('a', 'e', 'i', 'o', 'u')\n",
    "    if char not in vowels:\n",
    "        return False\n",
    "    return True\n",
    "\n",
    "\n",
    "if __name__ == \"__main__\":\n",
    "    print is_vowel(1)\n",
    "    print is_vowel('a')\n",
    "    print is_vowel('b')"
   ]
  },
  {
   "cell_type": "code",
   "execution_count": 27,
   "metadata": {},
   "outputs": [
    {
     "name": "stdout",
     "output_type": "stream",
     "text": [
      "Exercises\n"
     ]
    }
   ],
   "source": [
    "def find_longest_word(words_list):\n",
    "    word_len = []\n",
    "    for n in words_list:\n",
    "        word_len.append((len(n), n))\n",
    "    word_len.sort()\n",
    "    return word_len[-1][1]\n",
    "\n",
    "print(find_longest_word([\"PHP\", \"Exercises\", \"Backend\"]))"
   ]
  },
  {
   "cell_type": "code",
   "execution_count": 32,
   "metadata": {},
   "outputs": [
    {
     "ename": "SyntaxError",
     "evalue": "invalid syntax (<ipython-input-32-f2ba187ed899>, line 11)",
     "output_type": "error",
     "traceback": [
      "\u001b[1;36m  File \u001b[1;32m\"<ipython-input-32-f2ba187ed899>\"\u001b[1;36m, line \u001b[1;32m11\u001b[0m\n\u001b[1;33m    else:\u001b[0m\n\u001b[1;37m       ^\u001b[0m\n\u001b[1;31mSyntaxError\u001b[0m\u001b[1;31m:\u001b[0m invalid syntax\n"
     ]
    }
   ],
   "source": [
    "def vowelChecker (inputChar):\n",
    " #DocString\n",
    " \"\"\" Function to check whether a char is vowel or not \"\"\"\n",
    " \n",
    "if (inputChar == \"a\" or inputChar == \"A\" or\n",
    " inputChar == \"e\" or inputChar == \"E\" or\n",
    " inputChar == \"i\" or inputChar == \"I\" or\n",
    " inputChar == \"o\" or inputChar == \"O\" or\n",
    " inputChar == \"u\" or inputChar == \"U\"):\n",
    " return \"True\"\n",
    " else:\n",
    "     return \"False\"\n",
    " \n",
    "print (\"Enter the string to check\")\n",
    "inputChar = input()\n",
    " \n",
    "if vowelChecker(inputChar) == \"True\":\n",
    "     print(\"The enterted character is Vowel\")\n",
    "else:\n",
    "     print(\"The enterted character is not Vowel\")"
   ]
  },
  {
   "cell_type": "code",
   "execution_count": null,
   "metadata": {},
   "outputs": [],
   "source": [
    "def filterlongword(string,number):\n",
    "\n",
    "    for i in range(len(string)):\n",
    "        listwords = []\n",
    "        if len(string[i]) > number:\n",
    "            listwords.append(string[i])\n",
    "\n",
    "        return listwords \n",
    "\n",
    "\n",
    "def main():\n",
    "    words = input(\"Please input the list of words: \")\n",
    "    integer = eval(input(\"Please input an integer: \"))\n",
    "\n",
    "    words1 = filterlongword(words,integer)\n",
    "\n",
    "    print(\"The list of words greater than the integer is\",words1)\n",
    "\n",
    "main()"
   ]
  },
  {
   "cell_type": "code",
   "execution_count": 28,
   "metadata": {},
   "outputs": [
    {
     "ename": "SyntaxError",
     "evalue": "invalid syntax (<ipython-input-28-11f737500bf2>, line 12)",
     "output_type": "error",
     "traceback": [
      "\u001b[1;36m  File \u001b[1;32m\"<ipython-input-28-11f737500bf2>\"\u001b[1;36m, line \u001b[1;32m12\u001b[0m\n\u001b[1;33m    print LongestWord(raw_input())\u001b[0m\n\u001b[1;37m                    ^\u001b[0m\n\u001b[1;31mSyntaxError\u001b[0m\u001b[1;31m:\u001b[0m invalid syntax\n"
     ]
    }
   ],
   "source": [
    "def LongestWord(sen): \n",
    "  # code goes here\n",
    "  import string\n",
    "  for char in string.punctuation:\n",
    "    sen = sen.replace(char,' ')\n",
    "  text = sen.split()\n",
    "  text.sort(key = lambda x: len(x))\n",
    "  return text[-1]\n",
    "\n",
    "# keep this function call here  \n",
    "# to see how to enter arguments in Python scroll down\n",
    "print LongestWord(raw_input()) "
   ]
  },
  {
   "cell_type": "code",
   "execution_count": 36,
   "metadata": {},
   "outputs": [
    {
     "name": "stdout",
     "output_type": "stream",
     "text": [
      "['wordThree', 'wordFour', 'wordFive']\n"
     ]
    }
   ],
   "source": [
    "def filter_long_words(inputList,inputInteger):\n",
    " \n",
    "    listOfWords = []\n",
    " \n",
    "    for i in range(len(inputList)):\n",
    "        if len(inputList[i]) > inputInteger:\n",
    "            listOfWords.append(inputList[i])\n",
    " \n",
    "    return listOfWords\n",
    " \n",
    "inputListOfWords = ['wordOne','wordTwo','wordThree','wordFour','wordFive']\n",
    "inputWordLength = 7\n",
    " \n",
    "print (str(filter_long_words(inputListOfWords,inputWordLength)))"
   ]
  },
  {
   "cell_type": "code",
   "execution_count": 29,
   "metadata": {},
   "outputs": [
    {
     "ename": "NameError",
     "evalue": "name 'Polygon' is not defined",
     "output_type": "error",
     "traceback": [
      "\u001b[1;31m---------------------------------------------------------------------------\u001b[0m",
      "\u001b[1;31mNameError\u001b[0m                                 Traceback (most recent call last)",
      "\u001b[1;32m<ipython-input-29-c7cdf15661e9>\u001b[0m in \u001b[0;36m<module>\u001b[1;34m\u001b[0m\n\u001b[1;32m----> 1\u001b[1;33m \u001b[1;32mclass\u001b[0m \u001b[0mTriangle\u001b[0m\u001b[1;33m(\u001b[0m\u001b[0mPolygon\u001b[0m\u001b[1;33m)\u001b[0m\u001b[1;33m:\u001b[0m\u001b[1;33m\u001b[0m\u001b[1;33m\u001b[0m\u001b[0m\n\u001b[0m\u001b[0;32m      2\u001b[0m \u001b[1;33m\u001b[0m\u001b[0m\n\u001b[0;32m      3\u001b[0m     \u001b[1;32mdef\u001b[0m \u001b[0m__init__\u001b[0m\u001b[1;33m(\u001b[0m\u001b[0mself\u001b[0m\u001b[1;33m,\u001b[0m \u001b[0mlengths_of_sides\u001b[0m\u001b[1;33m)\u001b[0m\u001b[1;33m:\u001b[0m\u001b[1;33m\u001b[0m\u001b[1;33m\u001b[0m\u001b[0m\n\u001b[0;32m      4\u001b[0m         \u001b[0mPolygon\u001b[0m\u001b[1;33m.\u001b[0m\u001b[0m__init__\u001b[0m\u001b[1;33m(\u001b[0m\u001b[0mself\u001b[0m\u001b[1;33m,\u001b[0m \u001b[1;36m3\u001b[0m\u001b[1;33m)\u001b[0m\u001b[1;33m\u001b[0m\u001b[1;33m\u001b[0m\u001b[0m\n\u001b[0;32m      5\u001b[0m         \u001b[0mself\u001b[0m\u001b[1;33m.\u001b[0m\u001b[0mlengths_of_sides\u001b[0m \u001b[1;33m=\u001b[0m \u001b[0mlengths_of_sides\u001b[0m  \u001b[1;31m# list of three numbers\u001b[0m\u001b[1;33m\u001b[0m\u001b[1;33m\u001b[0m\u001b[0m\n",
      "\u001b[1;31mNameError\u001b[0m: name 'Polygon' is not defined"
     ]
    }
   ],
   "source": [
    "class Triangle(Polygon):\n",
    "\n",
    "    def __init__(self, lengths_of_sides):\n",
    "        Polygon.__init__(self, 3)\n",
    "        self.lengths_of_sides = lengths_of_sides  # list of three numbers\n",
    "\n",
    "    def get_area(self):\n",
    "        '''return the area of the triangle using the semi-perimeter method'''\n",
    "        a, b, c = self.lengths_of_sides\n",
    "\n",
    "        # calculate the semi-perimeter\n",
    "        s = (a + b + c) / 2\n",
    "        return (s*(s-a)*(s-b)*(s-c)) ** 0.5"
   ]
  },
  {
   "cell_type": "code",
   "execution_count": null,
   "metadata": {},
   "outputs": [],
   "source": []
  }
 ],
 "metadata": {
  "kernelspec": {
   "display_name": "Python 3",
   "language": "python",
   "name": "python3"
  },
  "language_info": {
   "codemirror_mode": {
    "name": "ipython",
    "version": 3
   },
   "file_extension": ".py",
   "mimetype": "text/x-python",
   "name": "python",
   "nbconvert_exporter": "python",
   "pygments_lexer": "ipython3",
   "version": "3.7.3"
  }
 },
 "nbformat": 4,
 "nbformat_minor": 2
}
